{
 "cells": [
  {
   "cell_type": "markdown",
   "metadata": {},
   "source": [
    "# Import pandas"
   ]
  },
  {
   "cell_type": "code",
   "execution_count": 20,
   "metadata": {},
   "outputs": [],
   "source": [
    "import pandas as pd\n",
    "import plotly.express as px\n",
    "import plotly.graph_objects as go\n",
    "from plotly import subplots"
   ]
  },
  {
   "cell_type": "code",
   "execution_count": 2,
   "metadata": {},
   "outputs": [
    {
     "data": {
      "text/plain": [
       "'1.5.0'"
      ]
     },
     "execution_count": 2,
     "metadata": {},
     "output_type": "execute_result"
    }
   ],
   "source": [
    "pd.__version__"
   ]
  },
  {
   "cell_type": "markdown",
   "metadata": {},
   "source": [
    "# Question/Answer"
   ]
  },
  {
   "cell_type": "code",
   "execution_count": 11,
   "metadata": {},
   "outputs": [],
   "source": [
    "df = pd.read_csv(\"Air_Traffic_Passenger_Statistics.csv\", index_col = False)\n",
    "df.drop(columns=[\"index\"], inplace = True)\n"
   ]
  },
  {
   "cell_type": "code",
   "execution_count": 185,
   "metadata": {},
   "outputs": [
    {
     "data": {
      "text/html": [
       "<div>\n",
       "<style scoped>\n",
       "    .dataframe tbody tr th:only-of-type {\n",
       "        vertical-align: middle;\n",
       "    }\n",
       "\n",
       "    .dataframe tbody tr th {\n",
       "        vertical-align: top;\n",
       "    }\n",
       "\n",
       "    .dataframe thead th {\n",
       "        text-align: right;\n",
       "    }\n",
       "</style>\n",
       "<table border=\"1\" class=\"dataframe\">\n",
       "  <thead>\n",
       "    <tr style=\"text-align: right;\">\n",
       "      <th></th>\n",
       "      <th>Operating Airline</th>\n",
       "      <th>Adjusted Passenger Count</th>\n",
       "    </tr>\n",
       "  </thead>\n",
       "  <tbody>\n",
       "    <tr>\n",
       "      <th>11965</th>\n",
       "      <td>Emirates</td>\n",
       "      <td>9573</td>\n",
       "    </tr>\n",
       "    <tr>\n",
       "      <th>2457</th>\n",
       "      <td>KLM Royal Dutch Airlines</td>\n",
       "      <td>10882</td>\n",
       "    </tr>\n",
       "    <tr>\n",
       "      <th>191</th>\n",
       "      <td>SkyWest Airlines</td>\n",
       "      <td>7052</td>\n",
       "    </tr>\n",
       "    <tr>\n",
       "      <th>8520</th>\n",
       "      <td>American Airlines</td>\n",
       "      <td>140450</td>\n",
       "    </tr>\n",
       "    <tr>\n",
       "      <th>4353</th>\n",
       "      <td>British Airways</td>\n",
       "      <td>20122</td>\n",
       "    </tr>\n",
       "    <tr>\n",
       "      <th>5709</th>\n",
       "      <td>United Airlines - Pre 07/01/2013</td>\n",
       "      <td>10903</td>\n",
       "    </tr>\n",
       "    <tr>\n",
       "      <th>6008</th>\n",
       "      <td>Japan Airlines</td>\n",
       "      <td>6987</td>\n",
       "    </tr>\n",
       "    <tr>\n",
       "      <th>7498</th>\n",
       "      <td>Emirates</td>\n",
       "      <td>6923</td>\n",
       "    </tr>\n",
       "    <tr>\n",
       "      <th>8987</th>\n",
       "      <td>China Airlines</td>\n",
       "      <td>9056</td>\n",
       "    </tr>\n",
       "    <tr>\n",
       "      <th>11541</th>\n",
       "      <td>Singapore Airlines</td>\n",
       "      <td>16089</td>\n",
       "    </tr>\n",
       "  </tbody>\n",
       "</table>\n",
       "</div>"
      ],
      "text/plain": [
       "                      Operating Airline  Adjusted Passenger Count\n",
       "11965                         Emirates                       9573\n",
       "2457           KLM Royal Dutch Airlines                     10882\n",
       "191                    SkyWest Airlines                      7052\n",
       "8520                  American Airlines                    140450\n",
       "4353                    British Airways                     20122\n",
       "5709   United Airlines - Pre 07/01/2013                     10903\n",
       "6008                     Japan Airlines                      6987\n",
       "7498                          Emirates                       6923\n",
       "8987                     China Airlines                      9056\n",
       "11541                Singapore Airlines                     16089"
      ]
     },
     "execution_count": 185,
     "metadata": {},
     "output_type": "execute_result"
    }
   ],
   "source": [
    "df[[\"Operating Airline\", \"Adjusted Passenger Count\"]].sample(10)"
   ]
  },
  {
   "cell_type": "code",
   "execution_count": 54,
   "metadata": {},
   "outputs": [
    {
     "data": {
      "text/plain": [
       "Activity Period                 int64\n",
       "Operating Airline              object\n",
       "Operating Airline IATA Code    object\n",
       "Published Airline              object\n",
       "Published Airline IATA Code    object\n",
       "GEO Summary                    object\n",
       "GEO Region                     object\n",
       "Activity Type Code             object\n",
       "Price Category Code            object\n",
       "Terminal                       object\n",
       "Boarding Area                  object\n",
       "Passenger Count                 int64\n",
       "Adjusted Activity Type Code    object\n",
       "Adjusted Passenger Count        int64\n",
       "Year                            int64\n",
       "Month                          object\n",
       "dtype: object"
      ]
     },
     "execution_count": 54,
     "metadata": {},
     "output_type": "execute_result"
    }
   ],
   "source": [
    "df.dtypes"
   ]
  },
  {
   "cell_type": "code",
   "execution_count": 13,
   "metadata": {},
   "outputs": [
    {
     "data": {
      "text/plain": [
       "(15007, 16)"
      ]
     },
     "execution_count": 13,
     "metadata": {},
     "output_type": "execute_result"
    }
   ],
   "source": [
    "df.shape"
   ]
  },
  {
   "cell_type": "code",
   "execution_count": 48,
   "metadata": {},
   "outputs": [
    {
     "data": {
      "application/vnd.plotly.v1+json": {
       "config": {
        "plotlyServerURL": "https://plot.ly"
       },
       "data": [
        {
         "alignmentgroup": "True",
         "hovertemplate": "adj_passenger_count_avg=%{x}<br>Operating Airline=%{y}<extra></extra>",
         "legendgroup": "",
         "marker": {
          "color": "aquamarine",
          "line": {
           "color": "black",
           "width": 1
          },
          "pattern": {
           "shape": ""
          }
         },
         "name": "",
         "offsetgroup": "",
         "orientation": "h",
         "showlegend": false,
         "textposition": "auto",
         "type": "bar",
         "x": [
          2,
          5.363636363636363,
          18,
          35.5,
          73,
          90.05555555555556,
          107.375,
          160,
          261.6666666666667,
          264.8,
          294.2142857142857,
          428,
          1516.8125,
          2176.909090909091,
          2240.1290322580644,
          2320.75,
          2452.5,
          2786.011111111111,
          2799.7,
          2834.5,
          2864.7272727272725,
          2921.0416666666665,
          3418.0714285714284,
          3710.5811965811968,
          3883
         ],
         "xaxis": "x",
         "y": [
          "Evergreen International Airlines",
          "Ameriflight",
          "Boeing Company",
          "Atlas Air, Inc",
          "Xtra Airways",
          "Servisair",
          "Miami Air International",
          "Pacific Aviation",
          "World Airways",
          "Swissport USA",
          "Air Canada Jazz",
          "BelAir Airlines",
          "Allegiant Air",
          "Atlantic Southeast Airlines",
          "XL Airways France",
          "Air Berlin",
          "Republic Airlines",
          "LAN Peru",
          "Icelandair",
          "Air India Limited",
          "Mesaba Airlines",
          "Spirit Airlines",
          "COPA Airlines, Inc.",
          "Mesa Airlines",
          "Midwest Airlines"
         ],
         "yaxis": "y"
        }
       ],
       "layout": {
        "barmode": "relative",
        "height": 700,
        "legend": {
         "tracegroupgap": 0
        },
        "template": {
         "data": {
          "bar": [
           {
            "error_x": {
             "color": "#2a3f5f"
            },
            "error_y": {
             "color": "#2a3f5f"
            },
            "marker": {
             "line": {
              "color": "white",
              "width": 0.5
             },
             "pattern": {
              "fillmode": "overlay",
              "size": 10,
              "solidity": 0.2
             }
            },
            "type": "bar"
           }
          ],
          "barpolar": [
           {
            "marker": {
             "line": {
              "color": "white",
              "width": 0.5
             },
             "pattern": {
              "fillmode": "overlay",
              "size": 10,
              "solidity": 0.2
             }
            },
            "type": "barpolar"
           }
          ],
          "carpet": [
           {
            "aaxis": {
             "endlinecolor": "#2a3f5f",
             "gridcolor": "#C8D4E3",
             "linecolor": "#C8D4E3",
             "minorgridcolor": "#C8D4E3",
             "startlinecolor": "#2a3f5f"
            },
            "baxis": {
             "endlinecolor": "#2a3f5f",
             "gridcolor": "#C8D4E3",
             "linecolor": "#C8D4E3",
             "minorgridcolor": "#C8D4E3",
             "startlinecolor": "#2a3f5f"
            },
            "type": "carpet"
           }
          ],
          "choropleth": [
           {
            "colorbar": {
             "outlinewidth": 0,
             "ticks": ""
            },
            "type": "choropleth"
           }
          ],
          "contour": [
           {
            "colorbar": {
             "outlinewidth": 0,
             "ticks": ""
            },
            "colorscale": [
             [
              0,
              "#0d0887"
             ],
             [
              0.1111111111111111,
              "#46039f"
             ],
             [
              0.2222222222222222,
              "#7201a8"
             ],
             [
              0.3333333333333333,
              "#9c179e"
             ],
             [
              0.4444444444444444,
              "#bd3786"
             ],
             [
              0.5555555555555556,
              "#d8576b"
             ],
             [
              0.6666666666666666,
              "#ed7953"
             ],
             [
              0.7777777777777778,
              "#fb9f3a"
             ],
             [
              0.8888888888888888,
              "#fdca26"
             ],
             [
              1,
              "#f0f921"
             ]
            ],
            "type": "contour"
           }
          ],
          "contourcarpet": [
           {
            "colorbar": {
             "outlinewidth": 0,
             "ticks": ""
            },
            "type": "contourcarpet"
           }
          ],
          "heatmap": [
           {
            "colorbar": {
             "outlinewidth": 0,
             "ticks": ""
            },
            "colorscale": [
             [
              0,
              "#0d0887"
             ],
             [
              0.1111111111111111,
              "#46039f"
             ],
             [
              0.2222222222222222,
              "#7201a8"
             ],
             [
              0.3333333333333333,
              "#9c179e"
             ],
             [
              0.4444444444444444,
              "#bd3786"
             ],
             [
              0.5555555555555556,
              "#d8576b"
             ],
             [
              0.6666666666666666,
              "#ed7953"
             ],
             [
              0.7777777777777778,
              "#fb9f3a"
             ],
             [
              0.8888888888888888,
              "#fdca26"
             ],
             [
              1,
              "#f0f921"
             ]
            ],
            "type": "heatmap"
           }
          ],
          "heatmapgl": [
           {
            "colorbar": {
             "outlinewidth": 0,
             "ticks": ""
            },
            "colorscale": [
             [
              0,
              "#0d0887"
             ],
             [
              0.1111111111111111,
              "#46039f"
             ],
             [
              0.2222222222222222,
              "#7201a8"
             ],
             [
              0.3333333333333333,
              "#9c179e"
             ],
             [
              0.4444444444444444,
              "#bd3786"
             ],
             [
              0.5555555555555556,
              "#d8576b"
             ],
             [
              0.6666666666666666,
              "#ed7953"
             ],
             [
              0.7777777777777778,
              "#fb9f3a"
             ],
             [
              0.8888888888888888,
              "#fdca26"
             ],
             [
              1,
              "#f0f921"
             ]
            ],
            "type": "heatmapgl"
           }
          ],
          "histogram": [
           {
            "marker": {
             "pattern": {
              "fillmode": "overlay",
              "size": 10,
              "solidity": 0.2
             }
            },
            "type": "histogram"
           }
          ],
          "histogram2d": [
           {
            "colorbar": {
             "outlinewidth": 0,
             "ticks": ""
            },
            "colorscale": [
             [
              0,
              "#0d0887"
             ],
             [
              0.1111111111111111,
              "#46039f"
             ],
             [
              0.2222222222222222,
              "#7201a8"
             ],
             [
              0.3333333333333333,
              "#9c179e"
             ],
             [
              0.4444444444444444,
              "#bd3786"
             ],
             [
              0.5555555555555556,
              "#d8576b"
             ],
             [
              0.6666666666666666,
              "#ed7953"
             ],
             [
              0.7777777777777778,
              "#fb9f3a"
             ],
             [
              0.8888888888888888,
              "#fdca26"
             ],
             [
              1,
              "#f0f921"
             ]
            ],
            "type": "histogram2d"
           }
          ],
          "histogram2dcontour": [
           {
            "colorbar": {
             "outlinewidth": 0,
             "ticks": ""
            },
            "colorscale": [
             [
              0,
              "#0d0887"
             ],
             [
              0.1111111111111111,
              "#46039f"
             ],
             [
              0.2222222222222222,
              "#7201a8"
             ],
             [
              0.3333333333333333,
              "#9c179e"
             ],
             [
              0.4444444444444444,
              "#bd3786"
             ],
             [
              0.5555555555555556,
              "#d8576b"
             ],
             [
              0.6666666666666666,
              "#ed7953"
             ],
             [
              0.7777777777777778,
              "#fb9f3a"
             ],
             [
              0.8888888888888888,
              "#fdca26"
             ],
             [
              1,
              "#f0f921"
             ]
            ],
            "type": "histogram2dcontour"
           }
          ],
          "mesh3d": [
           {
            "colorbar": {
             "outlinewidth": 0,
             "ticks": ""
            },
            "type": "mesh3d"
           }
          ],
          "parcoords": [
           {
            "line": {
             "colorbar": {
              "outlinewidth": 0,
              "ticks": ""
             }
            },
            "type": "parcoords"
           }
          ],
          "pie": [
           {
            "automargin": true,
            "type": "pie"
           }
          ],
          "scatter": [
           {
            "fillpattern": {
             "fillmode": "overlay",
             "size": 10,
             "solidity": 0.2
            },
            "type": "scatter"
           }
          ],
          "scatter3d": [
           {
            "line": {
             "colorbar": {
              "outlinewidth": 0,
              "ticks": ""
             }
            },
            "marker": {
             "colorbar": {
              "outlinewidth": 0,
              "ticks": ""
             }
            },
            "type": "scatter3d"
           }
          ],
          "scattercarpet": [
           {
            "marker": {
             "colorbar": {
              "outlinewidth": 0,
              "ticks": ""
             }
            },
            "type": "scattercarpet"
           }
          ],
          "scattergeo": [
           {
            "marker": {
             "colorbar": {
              "outlinewidth": 0,
              "ticks": ""
             }
            },
            "type": "scattergeo"
           }
          ],
          "scattergl": [
           {
            "marker": {
             "colorbar": {
              "outlinewidth": 0,
              "ticks": ""
             }
            },
            "type": "scattergl"
           }
          ],
          "scattermapbox": [
           {
            "marker": {
             "colorbar": {
              "outlinewidth": 0,
              "ticks": ""
             }
            },
            "type": "scattermapbox"
           }
          ],
          "scatterpolar": [
           {
            "marker": {
             "colorbar": {
              "outlinewidth": 0,
              "ticks": ""
             }
            },
            "type": "scatterpolar"
           }
          ],
          "scatterpolargl": [
           {
            "marker": {
             "colorbar": {
              "outlinewidth": 0,
              "ticks": ""
             }
            },
            "type": "scatterpolargl"
           }
          ],
          "scatterternary": [
           {
            "marker": {
             "colorbar": {
              "outlinewidth": 0,
              "ticks": ""
             }
            },
            "type": "scatterternary"
           }
          ],
          "surface": [
           {
            "colorbar": {
             "outlinewidth": 0,
             "ticks": ""
            },
            "colorscale": [
             [
              0,
              "#0d0887"
             ],
             [
              0.1111111111111111,
              "#46039f"
             ],
             [
              0.2222222222222222,
              "#7201a8"
             ],
             [
              0.3333333333333333,
              "#9c179e"
             ],
             [
              0.4444444444444444,
              "#bd3786"
             ],
             [
              0.5555555555555556,
              "#d8576b"
             ],
             [
              0.6666666666666666,
              "#ed7953"
             ],
             [
              0.7777777777777778,
              "#fb9f3a"
             ],
             [
              0.8888888888888888,
              "#fdca26"
             ],
             [
              1,
              "#f0f921"
             ]
            ],
            "type": "surface"
           }
          ],
          "table": [
           {
            "cells": {
             "fill": {
              "color": "#EBF0F8"
             },
             "line": {
              "color": "white"
             }
            },
            "header": {
             "fill": {
              "color": "#C8D4E3"
             },
             "line": {
              "color": "white"
             }
            },
            "type": "table"
           }
          ]
         },
         "layout": {
          "annotationdefaults": {
           "arrowcolor": "#2a3f5f",
           "arrowhead": 0,
           "arrowwidth": 1
          },
          "autotypenumbers": "strict",
          "coloraxis": {
           "colorbar": {
            "outlinewidth": 0,
            "ticks": ""
           }
          },
          "colorscale": {
           "diverging": [
            [
             0,
             "#8e0152"
            ],
            [
             0.1,
             "#c51b7d"
            ],
            [
             0.2,
             "#de77ae"
            ],
            [
             0.3,
             "#f1b6da"
            ],
            [
             0.4,
             "#fde0ef"
            ],
            [
             0.5,
             "#f7f7f7"
            ],
            [
             0.6,
             "#e6f5d0"
            ],
            [
             0.7,
             "#b8e186"
            ],
            [
             0.8,
             "#7fbc41"
            ],
            [
             0.9,
             "#4d9221"
            ],
            [
             1,
             "#276419"
            ]
           ],
           "sequential": [
            [
             0,
             "#0d0887"
            ],
            [
             0.1111111111111111,
             "#46039f"
            ],
            [
             0.2222222222222222,
             "#7201a8"
            ],
            [
             0.3333333333333333,
             "#9c179e"
            ],
            [
             0.4444444444444444,
             "#bd3786"
            ],
            [
             0.5555555555555556,
             "#d8576b"
            ],
            [
             0.6666666666666666,
             "#ed7953"
            ],
            [
             0.7777777777777778,
             "#fb9f3a"
            ],
            [
             0.8888888888888888,
             "#fdca26"
            ],
            [
             1,
             "#f0f921"
            ]
           ],
           "sequentialminus": [
            [
             0,
             "#0d0887"
            ],
            [
             0.1111111111111111,
             "#46039f"
            ],
            [
             0.2222222222222222,
             "#7201a8"
            ],
            [
             0.3333333333333333,
             "#9c179e"
            ],
            [
             0.4444444444444444,
             "#bd3786"
            ],
            [
             0.5555555555555556,
             "#d8576b"
            ],
            [
             0.6666666666666666,
             "#ed7953"
            ],
            [
             0.7777777777777778,
             "#fb9f3a"
            ],
            [
             0.8888888888888888,
             "#fdca26"
            ],
            [
             1,
             "#f0f921"
            ]
           ]
          },
          "colorway": [
           "#636efa",
           "#EF553B",
           "#00cc96",
           "#ab63fa",
           "#FFA15A",
           "#19d3f3",
           "#FF6692",
           "#B6E880",
           "#FF97FF",
           "#FECB52"
          ],
          "font": {
           "color": "#2a3f5f"
          },
          "geo": {
           "bgcolor": "white",
           "lakecolor": "white",
           "landcolor": "white",
           "showlakes": true,
           "showland": true,
           "subunitcolor": "#C8D4E3"
          },
          "hoverlabel": {
           "align": "left"
          },
          "hovermode": "closest",
          "mapbox": {
           "style": "light"
          },
          "paper_bgcolor": "white",
          "plot_bgcolor": "white",
          "polar": {
           "angularaxis": {
            "gridcolor": "#EBF0F8",
            "linecolor": "#EBF0F8",
            "ticks": ""
           },
           "bgcolor": "white",
           "radialaxis": {
            "gridcolor": "#EBF0F8",
            "linecolor": "#EBF0F8",
            "ticks": ""
           }
          },
          "scene": {
           "xaxis": {
            "backgroundcolor": "white",
            "gridcolor": "#DFE8F3",
            "gridwidth": 2,
            "linecolor": "#EBF0F8",
            "showbackground": true,
            "ticks": "",
            "zerolinecolor": "#EBF0F8"
           },
           "yaxis": {
            "backgroundcolor": "white",
            "gridcolor": "#DFE8F3",
            "gridwidth": 2,
            "linecolor": "#EBF0F8",
            "showbackground": true,
            "ticks": "",
            "zerolinecolor": "#EBF0F8"
           },
           "zaxis": {
            "backgroundcolor": "white",
            "gridcolor": "#DFE8F3",
            "gridwidth": 2,
            "linecolor": "#EBF0F8",
            "showbackground": true,
            "ticks": "",
            "zerolinecolor": "#EBF0F8"
           }
          },
          "shapedefaults": {
           "line": {
            "color": "#2a3f5f"
           }
          },
          "ternary": {
           "aaxis": {
            "gridcolor": "#DFE8F3",
            "linecolor": "#A2B1C6",
            "ticks": ""
           },
           "baxis": {
            "gridcolor": "#DFE8F3",
            "linecolor": "#A2B1C6",
            "ticks": ""
           },
           "bgcolor": "white",
           "caxis": {
            "gridcolor": "#DFE8F3",
            "linecolor": "#A2B1C6",
            "ticks": ""
           }
          },
          "title": {
           "x": 0.05
          },
          "xaxis": {
           "automargin": true,
           "gridcolor": "#EBF0F8",
           "linecolor": "#EBF0F8",
           "ticks": "",
           "title": {
            "standoff": 15
           },
           "zerolinecolor": "#EBF0F8",
           "zerolinewidth": 2
          },
          "yaxis": {
           "automargin": true,
           "gridcolor": "#EBF0F8",
           "linecolor": "#EBF0F8",
           "ticks": "",
           "title": {
            "standoff": 15
           },
           "zerolinecolor": "#EBF0F8",
           "zerolinewidth": 2
          }
         }
        },
        "title": {
         "text": "<b>Airline Average Passenger Counts (Top 25)</b>"
        },
        "xaxis": {
         "anchor": "y",
         "domain": [
          0,
          1
         ],
         "title": {
          "text": "Adjusted Average Passenger Count"
         }
        },
        "yaxis": {
         "anchor": "x",
         "domain": [
          0,
          1
         ],
         "title": {
          "text": "Operating Airline"
         }
        }
       }
      }
     },
     "metadata": {},
     "output_type": "display_data"
    }
   ],
   "source": [
    "tmp = df.groupby(by=[\"Operating Airline\"]).agg(adj_passenger_count_avg = (\"Adjusted Passenger Count\", \"mean\")).reset_index().sort_values(by=[\"adj_passenger_count_avg\"], ascending = True)\n",
    "\n",
    "num_samples = 25\n",
    "color_var = \"aquamarine\"\n",
    "fig = px.bar(tmp.head(num_samples), x = \"adj_passenger_count_avg\", y = \"Operating Airline\", title = f\"<b>Airline Average Passenger Counts (Top {num_samples})</b>\",\n",
    "color_discrete_sequence =[color_var]*num_samples, height = 700, template = \"plotly_white\")\n",
    "\n",
    "fig.update_xaxes(title = \"Adjusted Average Passenger Count\")\n",
    "# , showline = True, linewidth = 1, linecolor=\"black\", mirror = True)\n",
    "# fig.update_yaxes(showline = True, linewidth = 1, linecolor=\"black\", mirror = True)\n",
    "\n",
    "fig.update_traces(marker_line=dict(width=1, color='black'))\n",
    "fig.show()"
   ]
  },
  {
   "cell_type": "code",
   "execution_count": 12,
   "metadata": {},
   "outputs": [
    {
     "data": {
      "text/html": [
       "<div>\n",
       "<style scoped>\n",
       "    .dataframe tbody tr th:only-of-type {\n",
       "        vertical-align: middle;\n",
       "    }\n",
       "\n",
       "    .dataframe tbody tr th {\n",
       "        vertical-align: top;\n",
       "    }\n",
       "\n",
       "    .dataframe thead th {\n",
       "        text-align: right;\n",
       "    }\n",
       "</style>\n",
       "<table border=\"1\" class=\"dataframe\">\n",
       "  <thead>\n",
       "    <tr style=\"text-align: right;\">\n",
       "      <th></th>\n",
       "      <th>Activity Period</th>\n",
       "      <th>Operating Airline</th>\n",
       "      <th>Operating Airline IATA Code</th>\n",
       "      <th>Published Airline</th>\n",
       "      <th>Published Airline IATA Code</th>\n",
       "      <th>GEO Summary</th>\n",
       "      <th>GEO Region</th>\n",
       "      <th>Activity Type Code</th>\n",
       "      <th>Price Category Code</th>\n",
       "      <th>Terminal</th>\n",
       "      <th>Boarding Area</th>\n",
       "      <th>Passenger Count</th>\n",
       "      <th>Adjusted Activity Type Code</th>\n",
       "      <th>Adjusted Passenger Count</th>\n",
       "      <th>Year</th>\n",
       "      <th>Month</th>\n",
       "    </tr>\n",
       "  </thead>\n",
       "  <tbody>\n",
       "    <tr>\n",
       "      <th>0</th>\n",
       "      <td>200507</td>\n",
       "      <td>ATA Airlines</td>\n",
       "      <td>TZ</td>\n",
       "      <td>ATA Airlines</td>\n",
       "      <td>TZ</td>\n",
       "      <td>Domestic</td>\n",
       "      <td>US</td>\n",
       "      <td>Deplaned</td>\n",
       "      <td>Low Fare</td>\n",
       "      <td>Terminal 1</td>\n",
       "      <td>B</td>\n",
       "      <td>27271</td>\n",
       "      <td>Deplaned</td>\n",
       "      <td>27271</td>\n",
       "      <td>2005</td>\n",
       "      <td>July</td>\n",
       "    </tr>\n",
       "    <tr>\n",
       "      <th>1</th>\n",
       "      <td>200507</td>\n",
       "      <td>ATA Airlines</td>\n",
       "      <td>TZ</td>\n",
       "      <td>ATA Airlines</td>\n",
       "      <td>TZ</td>\n",
       "      <td>Domestic</td>\n",
       "      <td>US</td>\n",
       "      <td>Enplaned</td>\n",
       "      <td>Low Fare</td>\n",
       "      <td>Terminal 1</td>\n",
       "      <td>B</td>\n",
       "      <td>29131</td>\n",
       "      <td>Enplaned</td>\n",
       "      <td>29131</td>\n",
       "      <td>2005</td>\n",
       "      <td>July</td>\n",
       "    </tr>\n",
       "    <tr>\n",
       "      <th>2</th>\n",
       "      <td>200507</td>\n",
       "      <td>ATA Airlines</td>\n",
       "      <td>TZ</td>\n",
       "      <td>ATA Airlines</td>\n",
       "      <td>TZ</td>\n",
       "      <td>Domestic</td>\n",
       "      <td>US</td>\n",
       "      <td>Thru / Transit</td>\n",
       "      <td>Low Fare</td>\n",
       "      <td>Terminal 1</td>\n",
       "      <td>B</td>\n",
       "      <td>5415</td>\n",
       "      <td>Thru / Transit * 2</td>\n",
       "      <td>10830</td>\n",
       "      <td>2005</td>\n",
       "      <td>July</td>\n",
       "    </tr>\n",
       "    <tr>\n",
       "      <th>3</th>\n",
       "      <td>200507</td>\n",
       "      <td>Air Canada</td>\n",
       "      <td>AC</td>\n",
       "      <td>Air Canada</td>\n",
       "      <td>AC</td>\n",
       "      <td>International</td>\n",
       "      <td>Canada</td>\n",
       "      <td>Deplaned</td>\n",
       "      <td>Other</td>\n",
       "      <td>Terminal 1</td>\n",
       "      <td>B</td>\n",
       "      <td>35156</td>\n",
       "      <td>Deplaned</td>\n",
       "      <td>35156</td>\n",
       "      <td>2005</td>\n",
       "      <td>July</td>\n",
       "    </tr>\n",
       "    <tr>\n",
       "      <th>4</th>\n",
       "      <td>200507</td>\n",
       "      <td>Air Canada</td>\n",
       "      <td>AC</td>\n",
       "      <td>Air Canada</td>\n",
       "      <td>AC</td>\n",
       "      <td>International</td>\n",
       "      <td>Canada</td>\n",
       "      <td>Enplaned</td>\n",
       "      <td>Other</td>\n",
       "      <td>Terminal 1</td>\n",
       "      <td>B</td>\n",
       "      <td>34090</td>\n",
       "      <td>Enplaned</td>\n",
       "      <td>34090</td>\n",
       "      <td>2005</td>\n",
       "      <td>July</td>\n",
       "    </tr>\n",
       "  </tbody>\n",
       "</table>\n",
       "</div>"
      ],
      "text/plain": [
       "   Activity Period Operating Airline Operating Airline IATA Code  \\\n",
       "0           200507      ATA Airlines                          TZ   \n",
       "1           200507      ATA Airlines                          TZ   \n",
       "2           200507      ATA Airlines                          TZ   \n",
       "3           200507       Air Canada                           AC   \n",
       "4           200507       Air Canada                           AC   \n",
       "\n",
       "  Published Airline Published Airline IATA Code    GEO Summary GEO Region  \\\n",
       "0      ATA Airlines                          TZ       Domestic         US   \n",
       "1      ATA Airlines                          TZ       Domestic         US   \n",
       "2      ATA Airlines                          TZ       Domestic         US   \n",
       "3       Air Canada                           AC  International     Canada   \n",
       "4       Air Canada                           AC  International     Canada   \n",
       "\n",
       "  Activity Type Code Price Category Code    Terminal Boarding Area  \\\n",
       "0           Deplaned            Low Fare  Terminal 1             B   \n",
       "1           Enplaned            Low Fare  Terminal 1             B   \n",
       "2     Thru / Transit            Low Fare  Terminal 1             B   \n",
       "3           Deplaned               Other  Terminal 1             B   \n",
       "4           Enplaned               Other  Terminal 1             B   \n",
       "\n",
       "   Passenger Count Adjusted Activity Type Code  Adjusted Passenger Count  \\\n",
       "0            27271                    Deplaned                     27271   \n",
       "1            29131                    Enplaned                     29131   \n",
       "2             5415          Thru / Transit * 2                     10830   \n",
       "3            35156                    Deplaned                     35156   \n",
       "4            34090                    Enplaned                     34090   \n",
       "\n",
       "   Year Month  \n",
       "0  2005  July  \n",
       "1  2005  July  \n",
       "2  2005  July  \n",
       "3  2005  July  \n",
       "4  2005  July  "
      ]
     },
     "execution_count": 12,
     "metadata": {},
     "output_type": "execute_result"
    }
   ],
   "source": [
    "df.head()"
   ]
  },
  {
   "cell_type": "code",
   "execution_count": null,
   "metadata": {},
   "outputs": [],
   "source": [
    "display"
   ]
  },
  {
   "cell_type": "markdown",
   "metadata": {},
   "source": [
    "# Planning question/ answer bank"
   ]
  },
  {
   "cell_type": "code",
   "execution_count": 62,
   "metadata": {},
   "outputs": [],
   "source": [
    "import dash\n",
    "from dash import dcc, html, dash_table, ctx\n",
    "from dash.dependencies import Output, Input, State\n",
    "import plotly.express as px\n",
    "import dash_bootstrap_components as dbc\n",
    "from dash.exceptions import PreventUpdate"
   ]
  },
  {
   "cell_type": "code",
   "execution_count": 161,
   "metadata": {},
   "outputs": [],
   "source": [
    "import random"
   ]
  },
  {
   "cell_type": "markdown",
   "metadata": {},
   "source": [
    "## what i need to keep track of\n",
    "\n",
    "- Date\n",
    "- Question title\n",
    "- Question Body \n",
    "    - this is the trickiest part, format could be different everyday\n",
    "    - store dbc.Container?\n",
    "    - Data\n",
    "        - Tables\n",
    "        - Plots\n",
    "- Answer choices\n",
    "- the correct answer\n",
    "- Feedback\n",
    "    - Potentially more tables and plots\n",
    "\n",
    "Decisions:\n",
    "- We update question every day at 7:00 AM\n",
    "- We will always show 4 answer choices for simplicity\n",
    "     - TODO: maybe make this dynamic\n"
   ]
  },
  {
   "cell_type": "code",
   "execution_count": 187,
   "metadata": {},
   "outputs": [],
   "source": [
    "data_df = df"
   ]
  },
  {
   "cell_type": "code",
   "execution_count": 189,
   "metadata": {},
   "outputs": [],
   "source": [
    "text_body_style = {\"font-family\": \"Roboto Mono, monospace\", \"font-size\": \"1.2em\",}\n",
    "\n",
    "# The container is for the QUESTION body\n",
    "question_1 = dbc.Container([\n",
    "             dcc.Markdown(f'''\\\n",
    "                Jeremy is a data analyst working with airline data. Here is a sample:\n",
    "                '''\n",
    "            , style=text_body_style),\n",
    "\n",
    "            # table\n",
    "            dbc.Container([\n",
    "            dash_table.DataTable(data_df.head(10).to_dict('records'), [{\"name\": i, \"id\": i} for i in data_df.columns], \n",
    "            style_cell={'textAlign': 'left',\n",
    "             \"backgroundColor\": \"#f0ead6\",\n",
    "             \"padding\": \"0.5em\"},   \n",
    "            style_data={\n",
    "                'whiteSpace': 'normal',\n",
    "                'height': 'auto',\n",
    "            },\n",
    "            style_table={'overflowX': 'scroll', 'overflowY': 'scroll', \"height\": \"20em\"},\n",
    "            style_header = {\n",
    "                \"backgroundColor\": \"#f9dd81\",\n",
    "                'fontWeight': 'bold',\n",
    "                \"border\": \"1px solid black\",\n",
    "\n",
    "            },\n",
    "   \n",
    "            ),\n",
    "            ], style={\"margin-top\": \"2%\", \"margin-bottom\": \"2%\"}),\n",
    "\n",
    "\n",
    "\n",
    "            dcc.Markdown(f'''\\\n",
    "        \n",
    "            His stakeholder is interested\\\n",
    "            in seeing aggregate passener data grouped by the airline. Here is the data and code Jeremy currently has. But Jeremy\\\n",
    "            is stuck on how to finish the code?\\n\n",
    "\n",
    "            ```python\n",
    "            import pandas as pd\n",
    "            print(\"hi\")\n",
    "            ```\n",
    "            \n",
    "            Help out Jeremy. Can you fill in the missing code?\n",
    "    \n",
    "            ''', style=text_body_style),\n",
    "\n",
    "\n",
    "\n",
    "\n",
    "\n",
    "        ], id = \"question_body\", )"
   ]
  },
  {
   "cell_type": "code",
   "execution_count": 210,
   "metadata": {},
   "outputs": [
    {
     "data": {
      "text/plain": [
       "dash_bootstrap_components._components.Container.Container"
      ]
     },
     "execution_count": 210,
     "metadata": {},
     "output_type": "execute_result"
    }
   ],
   "source": [
    "type(question_1)"
   ]
  },
  {
   "cell_type": "code",
   "execution_count": 190,
   "metadata": {},
   "outputs": [],
   "source": [
    "feedback_1 = dbc.Container([\n",
    "        dcc.Markdown(f'''\\\n",
    "        \n",
    "            Jeremy has to do this line of code. This is how that pandas function works. \n",
    "            More can be found in the pandas documentation. He has to use the group by function.\n",
    "            He can use agg for more functionality.\n",
    "    \n",
    "            ''', style=text_body_style\n",
    "        )\n",
    "        ])"
   ]
  },
  {
   "cell_type": "code",
   "execution_count": 193,
   "metadata": {},
   "outputs": [],
   "source": [
    "answer_choice_1 = dbc.Container([\n",
    "                    dcc.Markdown(f'''\\\n",
    "                    hi hey hows it goin\n",
    "                    ```python\n",
    "                    import pandas as pd\n",
    "                    print(\"hi\")\n",
    "                    ```\n",
    "                    ''', )\n",
    "                ])\n",
    "\n",
    "answer_choice_2 = dbc.Container([\n",
    "                dcc.Markdown(f'''\\\n",
    "                ```python\n",
    "                import pandas as pd\n",
    "                print(\"hi\")\n",
    "                ```\n",
    "                ''', ), \n",
    "            ])\n",
    "answer_choice_3 =  dbc.Container([\n",
    "\n",
    "                dcc.Markdown(f'''\\\n",
    "                this is the right answer\n",
    "                ```python\n",
    "                import pandas as pd\n",
    "                print(\"hi\")\n",
    "                ```\n",
    "                ''', ),  \n",
    "\n",
    "            ])\n",
    "\n",
    "answer_choice_4 = dbc.Container([\n",
    "\n",
    "                    dcc.Markdown(f'''\\\n",
    "                    whats up\n",
    "                    ```python\n",
    "                    import pandas as pd\n",
    "                    print(\"hi\")\n",
    "                    ```\n",
    "                    ''', ), \n",
    "\n",
    "                ])"
   ]
  },
  {
   "cell_type": "code",
   "execution_count": 146,
   "metadata": {},
   "outputs": [],
   "source": [
    "def get_date(d):\n",
    "    year = d.year\n",
    "    month = d.strftime(\"%B\")\n",
    "    day = d.day\n",
    "\n",
    "    if day in [1,21, 31]:\n",
    "        suffix == \"st\"\n",
    "    elif day in [2,22]:\n",
    "        suffix = \"nd\"\n",
    "    elif day == [3, 23]:\n",
    "        suffix = \"rd\"\n",
    "    else:\n",
    "        suffix = \"th\"\n",
    "\n",
    "    return f\"{month} {day}{suffix}, {year}, EST\""
   ]
  },
  {
   "cell_type": "code",
   "execution_count": 191,
   "metadata": {},
   "outputs": [],
   "source": [
    "bank_df = pd.DataFrame(columns = (\"date\", \"readable_date\", \"question_title\", \"question\", \n",
    "    \"answer_choice_1\", \"answer_choice_2\", \"answer_choice_3\", \"answer_choice_4\", \"correct_answer\", \"feedback\", \"data_source\"))"
   ]
  },
  {
   "cell_type": "code",
   "execution_count": 182,
   "metadata": {},
   "outputs": [],
   "source": [
    "def add_to_bank(df: pd.DataFrame, date,\tquestion_title,\tquestion, answer_choices, feedback, data_source\n",
    "):\n",
    "    readable_date = get_date(date)\n",
    "\n",
    "    correct_answer = answer_choices[answer_choices[\"correct\"]]\n",
    "\n",
    "    new_choices_order = list(answer_choices.values())\n",
    "    new_choices_order.remove(answer_choices[\"correct\"])\n",
    "\n",
    "    random.shuffle(new_choices_order)\n",
    "    correct_answer_new_pos = new_choices_order.index(correct_answer) + 1\n",
    "\n",
    "    entry = pd.DataFrame.from_dict({\n",
    "        \"date\": [date],\n",
    "        \"readable_date\": [readable_date],\n",
    "        \"question_title\": [question_title],\n",
    "        \"question\": [question],\n",
    "        \"answer_choice_1\": [new_choices_order[0]], \n",
    "        \"answer_choice_2\": [new_choices_order[1]], \n",
    "        \"answer_choice_3\": [new_choices_order[2]], \n",
    "        \"answer_choice_4\": [new_choices_order[3]], \n",
    "        \"correct_answer\": [correct_answer_new_pos], \n",
    "        \"feedback\": [feedback], \n",
    "        \"data_source\": [data_source]\n",
    "    \n",
    "    })\n",
    "    \n",
    "    df = pd.concat([df, entry], ignore_index = True)\n",
    "    return df"
   ]
  },
  {
   "cell_type": "code",
   "execution_count": 194,
   "metadata": {},
   "outputs": [],
   "source": [
    "# ADD TO BANK\n",
    "bank_df = add_to_bank(df = bank_df, \n",
    "date = datetime(2022, 11, 6, 7, 0, 0, 69014, tzinfo=tz), \n",
    "question_title = \"Pandas, Group By\",\n",
    "question = question_1,\n",
    "answer_choices = {1: answer_choice_1, 2: answer_choice_2, 3: answer_choice_3, 4: answer_choice_4, \"correct\": 3},\n",
    "feedback = feedback_1, \n",
    "data_source = \"airline\")"
   ]
  },
  {
   "cell_type": "code",
   "execution_count": 212,
   "metadata": {},
   "outputs": [
    {
     "data": {
      "text/plain": [
       "dash_bootstrap_components._components.Container.Container"
      ]
     },
     "execution_count": 212,
     "metadata": {},
     "output_type": "execute_result"
    }
   ],
   "source": [
    "type(bank_df.loc[0,\"question\"])"
   ]
  },
  {
   "cell_type": "code",
   "execution_count": 203,
   "metadata": {},
   "outputs": [
    {
     "data": {
      "text/plain": [
       "date               datetime64[ns, EST]\n",
       "readable_date                   object\n",
       "question_title                  object\n",
       "question                        object\n",
       "answer_choice_1                 object\n",
       "answer_choice_2                 object\n",
       "answer_choice_3                 object\n",
       "answer_choice_4                 object\n",
       "correct_answer                  object\n",
       "feedback                        object\n",
       "data_source                     object\n",
       "dtype: object"
      ]
     },
     "execution_count": 203,
     "metadata": {},
     "output_type": "execute_result"
    }
   ],
   "source": [
    "bank_df.dtypes"
   ]
  },
  {
   "cell_type": "code",
   "execution_count": 216,
   "metadata": {},
   "outputs": [],
   "source": [
    "bank_df_read = pd.read_csv(\"data/bank_df.csv\")"
   ]
  },
  {
   "cell_type": "code",
   "execution_count": 229,
   "metadata": {},
   "outputs": [
    {
     "data": {
      "text/plain": [
       "dash_bootstrap_components._components.Container.Container"
      ]
     },
     "execution_count": 229,
     "metadata": {},
     "output_type": "execute_result"
    }
   ],
   "source": [
    "type(bank_df_read.loc[0,\"question\"])"
   ]
  },
  {
   "cell_type": "code",
   "execution_count": 204,
   "metadata": {},
   "outputs": [
    {
     "data": {
      "text/plain": [
       "629"
      ]
     },
     "execution_count": 204,
     "metadata": {},
     "output_type": "execute_result"
    }
   ],
   "source": [
    "bank_df.memory_usage(deep=True).sum()"
   ]
  },
  {
   "cell_type": "code",
   "execution_count": 205,
   "metadata": {},
   "outputs": [],
   "source": [
    "bank_df.to_csv(\"bank_df.csv\")"
   ]
  },
  {
   "cell_type": "code",
   "execution_count": 223,
   "metadata": {},
   "outputs": [],
   "source": [
    "import joblib"
   ]
  },
  {
   "cell_type": "code",
   "execution_count": 225,
   "metadata": {},
   "outputs": [
    {
     "data": {
      "text/plain": [
       "['bank_df.joblib']"
      ]
     },
     "execution_count": 225,
     "metadata": {},
     "output_type": "execute_result"
    }
   ],
   "source": [
    "joblib.dump(bank_df, \"bank_df.joblib\")"
   ]
  },
  {
   "cell_type": "code",
   "execution_count": 228,
   "metadata": {},
   "outputs": [],
   "source": [
    "bank_df_read = joblib.load(\"data/bank_df.joblib\")"
   ]
  },
  {
   "cell_type": "code",
   "execution_count": 222,
   "metadata": {},
   "outputs": [
    {
     "ename": "TypeError",
     "evalue": "write() got an unexpected keyword argument 'verbose'",
     "output_type": "error",
     "traceback": [
      "\u001b[0;31m---------------------------------------------------------------------------\u001b[0m",
      "\u001b[0;31mTypeError\u001b[0m                                 Traceback (most recent call last)",
      "Cell \u001b[0;32mIn [222], line 1\u001b[0m\n\u001b[0;32m----> 1\u001b[0m bank_df\u001b[39m.\u001b[39;49mto_parquet(\u001b[39m\"\u001b[39;49m\u001b[39mbank_df.parquet\u001b[39;49m\u001b[39m\"\u001b[39;49m, engine \u001b[39m=\u001b[39;49m \u001b[39m\"\u001b[39;49m\u001b[39mfastparquet\u001b[39;49m\u001b[39m\"\u001b[39;49m, verbose \u001b[39m=\u001b[39;49m \u001b[39mFalse\u001b[39;49;00m)\n",
      "File \u001b[0;32m/opt/homebrew/Caskroom/miniforge/base/envs/dev1/lib/python3.8/site-packages/pandas/util/_decorators.py:211\u001b[0m, in \u001b[0;36mdeprecate_kwarg.<locals>._deprecate_kwarg.<locals>.wrapper\u001b[0;34m(*args, **kwargs)\u001b[0m\n\u001b[1;32m    209\u001b[0m     \u001b[39melse\u001b[39;00m:\n\u001b[1;32m    210\u001b[0m         kwargs[new_arg_name] \u001b[39m=\u001b[39m new_arg_value\n\u001b[0;32m--> 211\u001b[0m \u001b[39mreturn\u001b[39;00m func(\u001b[39m*\u001b[39;49margs, \u001b[39m*\u001b[39;49m\u001b[39m*\u001b[39;49mkwargs)\n",
      "File \u001b[0;32m/opt/homebrew/Caskroom/miniforge/base/envs/dev1/lib/python3.8/site-packages/pandas/core/frame.py:2975\u001b[0m, in \u001b[0;36mDataFrame.to_parquet\u001b[0;34m(self, path, engine, compression, index, partition_cols, storage_options, **kwargs)\u001b[0m\n\u001b[1;32m   2888\u001b[0m \u001b[39m\"\"\"\u001b[39;00m\n\u001b[1;32m   2889\u001b[0m \u001b[39mWrite a DataFrame to the binary parquet format.\u001b[39;00m\n\u001b[1;32m   2890\u001b[0m \n\u001b[0;32m   (...)\u001b[0m\n\u001b[1;32m   2971\u001b[0m \u001b[39m>>> content = f.read()\u001b[39;00m\n\u001b[1;32m   2972\u001b[0m \u001b[39m\"\"\"\u001b[39;00m\n\u001b[1;32m   2973\u001b[0m \u001b[39mfrom\u001b[39;00m \u001b[39mpandas\u001b[39;00m\u001b[39m.\u001b[39;00m\u001b[39mio\u001b[39;00m\u001b[39m.\u001b[39;00m\u001b[39mparquet\u001b[39;00m \u001b[39mimport\u001b[39;00m to_parquet\n\u001b[0;32m-> 2975\u001b[0m \u001b[39mreturn\u001b[39;00m to_parquet(\n\u001b[1;32m   2976\u001b[0m     \u001b[39mself\u001b[39;49m,\n\u001b[1;32m   2977\u001b[0m     path,\n\u001b[1;32m   2978\u001b[0m     engine,\n\u001b[1;32m   2979\u001b[0m     compression\u001b[39m=\u001b[39;49mcompression,\n\u001b[1;32m   2980\u001b[0m     index\u001b[39m=\u001b[39;49mindex,\n\u001b[1;32m   2981\u001b[0m     partition_cols\u001b[39m=\u001b[39;49mpartition_cols,\n\u001b[1;32m   2982\u001b[0m     storage_options\u001b[39m=\u001b[39;49mstorage_options,\n\u001b[1;32m   2983\u001b[0m     \u001b[39m*\u001b[39;49m\u001b[39m*\u001b[39;49mkwargs,\n\u001b[1;32m   2984\u001b[0m )\n",
      "File \u001b[0;32m/opt/homebrew/Caskroom/miniforge/base/envs/dev1/lib/python3.8/site-packages/pandas/io/parquet.py:428\u001b[0m, in \u001b[0;36mto_parquet\u001b[0;34m(df, path, engine, compression, index, storage_options, partition_cols, **kwargs)\u001b[0m\n\u001b[1;32m    424\u001b[0m impl \u001b[39m=\u001b[39m get_engine(engine)\n\u001b[1;32m    426\u001b[0m path_or_buf: FilePath \u001b[39m|\u001b[39m WriteBuffer[\u001b[39mbytes\u001b[39m] \u001b[39m=\u001b[39m io\u001b[39m.\u001b[39mBytesIO() \u001b[39mif\u001b[39;00m path \u001b[39mis\u001b[39;00m \u001b[39mNone\u001b[39;00m \u001b[39melse\u001b[39;00m path\n\u001b[0;32m--> 428\u001b[0m impl\u001b[39m.\u001b[39;49mwrite(\n\u001b[1;32m    429\u001b[0m     df,\n\u001b[1;32m    430\u001b[0m     path_or_buf,\n\u001b[1;32m    431\u001b[0m     compression\u001b[39m=\u001b[39;49mcompression,\n\u001b[1;32m    432\u001b[0m     index\u001b[39m=\u001b[39;49mindex,\n\u001b[1;32m    433\u001b[0m     partition_cols\u001b[39m=\u001b[39;49mpartition_cols,\n\u001b[1;32m    434\u001b[0m     storage_options\u001b[39m=\u001b[39;49mstorage_options,\n\u001b[1;32m    435\u001b[0m     \u001b[39m*\u001b[39;49m\u001b[39m*\u001b[39;49mkwargs,\n\u001b[1;32m    436\u001b[0m )\n\u001b[1;32m    438\u001b[0m \u001b[39mif\u001b[39;00m path \u001b[39mis\u001b[39;00m \u001b[39mNone\u001b[39;00m:\n\u001b[1;32m    439\u001b[0m     \u001b[39massert\u001b[39;00m \u001b[39misinstance\u001b[39m(path_or_buf, io\u001b[39m.\u001b[39mBytesIO)\n",
      "File \u001b[0;32m/opt/homebrew/Caskroom/miniforge/base/envs/dev1/lib/python3.8/site-packages/pandas/io/parquet.py:310\u001b[0m, in \u001b[0;36mFastParquetImpl.write\u001b[0;34m(self, df, path, compression, index, partition_cols, storage_options, **kwargs)\u001b[0m\n\u001b[1;32m    305\u001b[0m     \u001b[39mraise\u001b[39;00m \u001b[39mValueError\u001b[39;00m(\n\u001b[1;32m    306\u001b[0m         \u001b[39m\"\u001b[39m\u001b[39mstorage_options passed with file object or non-fsspec file path\u001b[39m\u001b[39m\"\u001b[39m\n\u001b[1;32m    307\u001b[0m     )\n\u001b[1;32m    309\u001b[0m \u001b[39mwith\u001b[39;00m catch_warnings(record\u001b[39m=\u001b[39m\u001b[39mTrue\u001b[39;00m):\n\u001b[0;32m--> 310\u001b[0m     \u001b[39mself\u001b[39;49m\u001b[39m.\u001b[39;49mapi\u001b[39m.\u001b[39;49mwrite(\n\u001b[1;32m    311\u001b[0m         path,\n\u001b[1;32m    312\u001b[0m         df,\n\u001b[1;32m    313\u001b[0m         compression\u001b[39m=\u001b[39;49mcompression,\n\u001b[1;32m    314\u001b[0m         write_index\u001b[39m=\u001b[39;49mindex,\n\u001b[1;32m    315\u001b[0m         partition_on\u001b[39m=\u001b[39;49mpartition_cols,\n\u001b[1;32m    316\u001b[0m         \u001b[39m*\u001b[39;49m\u001b[39m*\u001b[39;49mkwargs,\n\u001b[1;32m    317\u001b[0m     )\n",
      "\u001b[0;31mTypeError\u001b[0m: write() got an unexpected keyword argument 'verbose'"
     ]
    }
   ],
   "source": [
    "bank_df.to_parquet(\"bank_df.parquet\", engine = \"fastparquet\", verbose = False)"
   ]
  },
  {
   "cell_type": "markdown",
   "metadata": {},
   "source": [
    "# Ad Hoc"
   ]
  },
  {
   "cell_type": "code",
   "execution_count": 109,
   "metadata": {},
   "outputs": [],
   "source": [
    "import datetime as dt\n",
    "from datetime import datetime\n",
    "from pytz import timezone\n",
    "tz = timezone('EST')\n",
    "d = datetime.now(tz)\n",
    "year = d.year\n",
    "month = d.strftime(\"%B\")\n",
    "day = d.day"
   ]
  },
  {
   "cell_type": "code",
   "execution_count": 82,
   "metadata": {},
   "outputs": [],
   "source": [
    "def next_datetime(current: dt.datetime, hour: int, **kwargs) -> dt.datetime:\n",
    "    repl = current.replace(hour=hour, **kwargs)\n",
    "    while repl <= current:\n",
    "        repl = repl + dt.timedelta(days=1)\n",
    "    return repl"
   ]
  },
  {
   "cell_type": "code",
   "execution_count": 125,
   "metadata": {},
   "outputs": [],
   "source": [
    "curr_date = datetime(2022, 11, 6, 7, 0, 0, 69014, tzinfo=tz)\n",
    "dates = [curr_date]\n",
    "for _ in range(100):\n",
    "    dates.append(dates[-1] + dt.timedelta(days=1))"
   ]
  },
  {
   "cell_type": "code",
   "execution_count": 126,
   "metadata": {},
   "outputs": [
    {
     "data": {
      "text/plain": [
       "[datetime.datetime(2022, 11, 6, 7, 0, 0, 69014, tzinfo=<StaticTzInfo 'EST'>),\n",
       " datetime.datetime(2022, 11, 7, 7, 0, 0, 69014, tzinfo=<StaticTzInfo 'EST'>),\n",
       " datetime.datetime(2022, 11, 8, 7, 0, 0, 69014, tzinfo=<StaticTzInfo 'EST'>),\n",
       " datetime.datetime(2022, 11, 9, 7, 0, 0, 69014, tzinfo=<StaticTzInfo 'EST'>),\n",
       " datetime.datetime(2022, 11, 10, 7, 0, 0, 69014, tzinfo=<StaticTzInfo 'EST'>),\n",
       " datetime.datetime(2022, 11, 11, 7, 0, 0, 69014, tzinfo=<StaticTzInfo 'EST'>),\n",
       " datetime.datetime(2022, 11, 12, 7, 0, 0, 69014, tzinfo=<StaticTzInfo 'EST'>),\n",
       " datetime.datetime(2022, 11, 13, 7, 0, 0, 69014, tzinfo=<StaticTzInfo 'EST'>),\n",
       " datetime.datetime(2022, 11, 14, 7, 0, 0, 69014, tzinfo=<StaticTzInfo 'EST'>),\n",
       " datetime.datetime(2022, 11, 15, 7, 0, 0, 69014, tzinfo=<StaticTzInfo 'EST'>),\n",
       " datetime.datetime(2022, 11, 16, 7, 0, 0, 69014, tzinfo=<StaticTzInfo 'EST'>),\n",
       " datetime.datetime(2022, 11, 17, 7, 0, 0, 69014, tzinfo=<StaticTzInfo 'EST'>),\n",
       " datetime.datetime(2022, 11, 18, 7, 0, 0, 69014, tzinfo=<StaticTzInfo 'EST'>),\n",
       " datetime.datetime(2022, 11, 19, 7, 0, 0, 69014, tzinfo=<StaticTzInfo 'EST'>),\n",
       " datetime.datetime(2022, 11, 20, 7, 0, 0, 69014, tzinfo=<StaticTzInfo 'EST'>),\n",
       " datetime.datetime(2022, 11, 21, 7, 0, 0, 69014, tzinfo=<StaticTzInfo 'EST'>),\n",
       " datetime.datetime(2022, 11, 22, 7, 0, 0, 69014, tzinfo=<StaticTzInfo 'EST'>),\n",
       " datetime.datetime(2022, 11, 23, 7, 0, 0, 69014, tzinfo=<StaticTzInfo 'EST'>),\n",
       " datetime.datetime(2022, 11, 24, 7, 0, 0, 69014, tzinfo=<StaticTzInfo 'EST'>),\n",
       " datetime.datetime(2022, 11, 25, 7, 0, 0, 69014, tzinfo=<StaticTzInfo 'EST'>),\n",
       " datetime.datetime(2022, 11, 26, 7, 0, 0, 69014, tzinfo=<StaticTzInfo 'EST'>),\n",
       " datetime.datetime(2022, 11, 27, 7, 0, 0, 69014, tzinfo=<StaticTzInfo 'EST'>),\n",
       " datetime.datetime(2022, 11, 28, 7, 0, 0, 69014, tzinfo=<StaticTzInfo 'EST'>),\n",
       " datetime.datetime(2022, 11, 29, 7, 0, 0, 69014, tzinfo=<StaticTzInfo 'EST'>),\n",
       " datetime.datetime(2022, 11, 30, 7, 0, 0, 69014, tzinfo=<StaticTzInfo 'EST'>),\n",
       " datetime.datetime(2022, 12, 1, 7, 0, 0, 69014, tzinfo=<StaticTzInfo 'EST'>),\n",
       " datetime.datetime(2022, 12, 2, 7, 0, 0, 69014, tzinfo=<StaticTzInfo 'EST'>),\n",
       " datetime.datetime(2022, 12, 3, 7, 0, 0, 69014, tzinfo=<StaticTzInfo 'EST'>),\n",
       " datetime.datetime(2022, 12, 4, 7, 0, 0, 69014, tzinfo=<StaticTzInfo 'EST'>),\n",
       " datetime.datetime(2022, 12, 5, 7, 0, 0, 69014, tzinfo=<StaticTzInfo 'EST'>),\n",
       " datetime.datetime(2022, 12, 6, 7, 0, 0, 69014, tzinfo=<StaticTzInfo 'EST'>),\n",
       " datetime.datetime(2022, 12, 7, 7, 0, 0, 69014, tzinfo=<StaticTzInfo 'EST'>),\n",
       " datetime.datetime(2022, 12, 8, 7, 0, 0, 69014, tzinfo=<StaticTzInfo 'EST'>),\n",
       " datetime.datetime(2022, 12, 9, 7, 0, 0, 69014, tzinfo=<StaticTzInfo 'EST'>),\n",
       " datetime.datetime(2022, 12, 10, 7, 0, 0, 69014, tzinfo=<StaticTzInfo 'EST'>),\n",
       " datetime.datetime(2022, 12, 11, 7, 0, 0, 69014, tzinfo=<StaticTzInfo 'EST'>),\n",
       " datetime.datetime(2022, 12, 12, 7, 0, 0, 69014, tzinfo=<StaticTzInfo 'EST'>),\n",
       " datetime.datetime(2022, 12, 13, 7, 0, 0, 69014, tzinfo=<StaticTzInfo 'EST'>),\n",
       " datetime.datetime(2022, 12, 14, 7, 0, 0, 69014, tzinfo=<StaticTzInfo 'EST'>),\n",
       " datetime.datetime(2022, 12, 15, 7, 0, 0, 69014, tzinfo=<StaticTzInfo 'EST'>),\n",
       " datetime.datetime(2022, 12, 16, 7, 0, 0, 69014, tzinfo=<StaticTzInfo 'EST'>),\n",
       " datetime.datetime(2022, 12, 17, 7, 0, 0, 69014, tzinfo=<StaticTzInfo 'EST'>),\n",
       " datetime.datetime(2022, 12, 18, 7, 0, 0, 69014, tzinfo=<StaticTzInfo 'EST'>),\n",
       " datetime.datetime(2022, 12, 19, 7, 0, 0, 69014, tzinfo=<StaticTzInfo 'EST'>),\n",
       " datetime.datetime(2022, 12, 20, 7, 0, 0, 69014, tzinfo=<StaticTzInfo 'EST'>),\n",
       " datetime.datetime(2022, 12, 21, 7, 0, 0, 69014, tzinfo=<StaticTzInfo 'EST'>),\n",
       " datetime.datetime(2022, 12, 22, 7, 0, 0, 69014, tzinfo=<StaticTzInfo 'EST'>),\n",
       " datetime.datetime(2022, 12, 23, 7, 0, 0, 69014, tzinfo=<StaticTzInfo 'EST'>),\n",
       " datetime.datetime(2022, 12, 24, 7, 0, 0, 69014, tzinfo=<StaticTzInfo 'EST'>),\n",
       " datetime.datetime(2022, 12, 25, 7, 0, 0, 69014, tzinfo=<StaticTzInfo 'EST'>),\n",
       " datetime.datetime(2022, 12, 26, 7, 0, 0, 69014, tzinfo=<StaticTzInfo 'EST'>),\n",
       " datetime.datetime(2022, 12, 27, 7, 0, 0, 69014, tzinfo=<StaticTzInfo 'EST'>),\n",
       " datetime.datetime(2022, 12, 28, 7, 0, 0, 69014, tzinfo=<StaticTzInfo 'EST'>),\n",
       " datetime.datetime(2022, 12, 29, 7, 0, 0, 69014, tzinfo=<StaticTzInfo 'EST'>),\n",
       " datetime.datetime(2022, 12, 30, 7, 0, 0, 69014, tzinfo=<StaticTzInfo 'EST'>),\n",
       " datetime.datetime(2022, 12, 31, 7, 0, 0, 69014, tzinfo=<StaticTzInfo 'EST'>),\n",
       " datetime.datetime(2023, 1, 1, 7, 0, 0, 69014, tzinfo=<StaticTzInfo 'EST'>),\n",
       " datetime.datetime(2023, 1, 2, 7, 0, 0, 69014, tzinfo=<StaticTzInfo 'EST'>),\n",
       " datetime.datetime(2023, 1, 3, 7, 0, 0, 69014, tzinfo=<StaticTzInfo 'EST'>),\n",
       " datetime.datetime(2023, 1, 4, 7, 0, 0, 69014, tzinfo=<StaticTzInfo 'EST'>),\n",
       " datetime.datetime(2023, 1, 5, 7, 0, 0, 69014, tzinfo=<StaticTzInfo 'EST'>),\n",
       " datetime.datetime(2023, 1, 6, 7, 0, 0, 69014, tzinfo=<StaticTzInfo 'EST'>),\n",
       " datetime.datetime(2023, 1, 7, 7, 0, 0, 69014, tzinfo=<StaticTzInfo 'EST'>),\n",
       " datetime.datetime(2023, 1, 8, 7, 0, 0, 69014, tzinfo=<StaticTzInfo 'EST'>),\n",
       " datetime.datetime(2023, 1, 9, 7, 0, 0, 69014, tzinfo=<StaticTzInfo 'EST'>),\n",
       " datetime.datetime(2023, 1, 10, 7, 0, 0, 69014, tzinfo=<StaticTzInfo 'EST'>),\n",
       " datetime.datetime(2023, 1, 11, 7, 0, 0, 69014, tzinfo=<StaticTzInfo 'EST'>),\n",
       " datetime.datetime(2023, 1, 12, 7, 0, 0, 69014, tzinfo=<StaticTzInfo 'EST'>),\n",
       " datetime.datetime(2023, 1, 13, 7, 0, 0, 69014, tzinfo=<StaticTzInfo 'EST'>),\n",
       " datetime.datetime(2023, 1, 14, 7, 0, 0, 69014, tzinfo=<StaticTzInfo 'EST'>),\n",
       " datetime.datetime(2023, 1, 15, 7, 0, 0, 69014, tzinfo=<StaticTzInfo 'EST'>),\n",
       " datetime.datetime(2023, 1, 16, 7, 0, 0, 69014, tzinfo=<StaticTzInfo 'EST'>),\n",
       " datetime.datetime(2023, 1, 17, 7, 0, 0, 69014, tzinfo=<StaticTzInfo 'EST'>),\n",
       " datetime.datetime(2023, 1, 18, 7, 0, 0, 69014, tzinfo=<StaticTzInfo 'EST'>),\n",
       " datetime.datetime(2023, 1, 19, 7, 0, 0, 69014, tzinfo=<StaticTzInfo 'EST'>),\n",
       " datetime.datetime(2023, 1, 20, 7, 0, 0, 69014, tzinfo=<StaticTzInfo 'EST'>),\n",
       " datetime.datetime(2023, 1, 21, 7, 0, 0, 69014, tzinfo=<StaticTzInfo 'EST'>),\n",
       " datetime.datetime(2023, 1, 22, 7, 0, 0, 69014, tzinfo=<StaticTzInfo 'EST'>),\n",
       " datetime.datetime(2023, 1, 23, 7, 0, 0, 69014, tzinfo=<StaticTzInfo 'EST'>),\n",
       " datetime.datetime(2023, 1, 24, 7, 0, 0, 69014, tzinfo=<StaticTzInfo 'EST'>),\n",
       " datetime.datetime(2023, 1, 25, 7, 0, 0, 69014, tzinfo=<StaticTzInfo 'EST'>),\n",
       " datetime.datetime(2023, 1, 26, 7, 0, 0, 69014, tzinfo=<StaticTzInfo 'EST'>),\n",
       " datetime.datetime(2023, 1, 27, 7, 0, 0, 69014, tzinfo=<StaticTzInfo 'EST'>),\n",
       " datetime.datetime(2023, 1, 28, 7, 0, 0, 69014, tzinfo=<StaticTzInfo 'EST'>),\n",
       " datetime.datetime(2023, 1, 29, 7, 0, 0, 69014, tzinfo=<StaticTzInfo 'EST'>),\n",
       " datetime.datetime(2023, 1, 30, 7, 0, 0, 69014, tzinfo=<StaticTzInfo 'EST'>),\n",
       " datetime.datetime(2023, 1, 31, 7, 0, 0, 69014, tzinfo=<StaticTzInfo 'EST'>),\n",
       " datetime.datetime(2023, 2, 1, 7, 0, 0, 69014, tzinfo=<StaticTzInfo 'EST'>),\n",
       " datetime.datetime(2023, 2, 2, 7, 0, 0, 69014, tzinfo=<StaticTzInfo 'EST'>),\n",
       " datetime.datetime(2023, 2, 3, 7, 0, 0, 69014, tzinfo=<StaticTzInfo 'EST'>),\n",
       " datetime.datetime(2023, 2, 4, 7, 0, 0, 69014, tzinfo=<StaticTzInfo 'EST'>),\n",
       " datetime.datetime(2023, 2, 5, 7, 0, 0, 69014, tzinfo=<StaticTzInfo 'EST'>),\n",
       " datetime.datetime(2023, 2, 6, 7, 0, 0, 69014, tzinfo=<StaticTzInfo 'EST'>),\n",
       " datetime.datetime(2023, 2, 7, 7, 0, 0, 69014, tzinfo=<StaticTzInfo 'EST'>),\n",
       " datetime.datetime(2023, 2, 8, 7, 0, 0, 69014, tzinfo=<StaticTzInfo 'EST'>),\n",
       " datetime.datetime(2023, 2, 9, 7, 0, 0, 69014, tzinfo=<StaticTzInfo 'EST'>),\n",
       " datetime.datetime(2023, 2, 10, 7, 0, 0, 69014, tzinfo=<StaticTzInfo 'EST'>),\n",
       " datetime.datetime(2023, 2, 11, 7, 0, 0, 69014, tzinfo=<StaticTzInfo 'EST'>),\n",
       " datetime.datetime(2023, 2, 12, 7, 0, 0, 69014, tzinfo=<StaticTzInfo 'EST'>),\n",
       " datetime.datetime(2023, 2, 13, 7, 0, 0, 69014, tzinfo=<StaticTzInfo 'EST'>),\n",
       " datetime.datetime(2023, 2, 14, 7, 0, 0, 69014, tzinfo=<StaticTzInfo 'EST'>)]"
      ]
     },
     "execution_count": 126,
     "metadata": {},
     "output_type": "execute_result"
    }
   ],
   "source": [
    "dates"
   ]
  },
  {
   "cell_type": "code",
   "execution_count": 116,
   "metadata": {},
   "outputs": [
    {
     "data": {
      "text/plain": [
       "datetime.datetime(2022, 11, 7, 7, 0, 0, 69014, tzinfo=<StaticTzInfo 'EST'>)"
      ]
     },
     "execution_count": 116,
     "metadata": {},
     "output_type": "execute_result"
    }
   ],
   "source": [
    "update_date"
   ]
  },
  {
   "cell_type": "code",
   "execution_count": 115,
   "metadata": {},
   "outputs": [],
   "source": [
    "update_date = next_datetime(d, hour = 7, minute = 0, second = 0)"
   ]
  },
  {
   "cell_type": "code",
   "execution_count": 122,
   "metadata": {},
   "outputs": [
    {
     "data": {
      "text/plain": [
       "['a']"
      ]
     },
     "execution_count": 122,
     "metadata": {},
     "output_type": "execute_result"
    }
   ],
   "source": [
    "\"a\".split(\"-\")"
   ]
  },
  {
   "cell_type": "code",
   "execution_count": null,
   "metadata": {},
   "outputs": [],
   "source": [
    "dura"
   ]
  },
  {
   "cell_type": "code",
   "execution_count": 118,
   "metadata": {},
   "outputs": [],
   "source": [
    "duration_in_s = (update_date - d).total_seconds()\n",
    "\n",
    "hours = duration_in_s/ 3600\n",
    "\n"
   ]
  },
  {
   "cell_type": "code",
   "execution_count": 121,
   "metadata": {},
   "outputs": [
    {
     "data": {
      "text/plain": [
       "57"
      ]
     },
     "execution_count": 121,
     "metadata": {},
     "output_type": "execute_result"
    }
   ],
   "source": [
    "hours_int = int(hours)\n",
    "\n",
    "minutes_int = int((hours - hours_int)*60)"
   ]
  },
  {
   "cell_type": "code",
   "execution_count": 72,
   "metadata": {},
   "outputs": [
    {
     "name": "stdout",
     "output_type": "stream",
     "text": [
      "2022 November 6\n"
     ]
    }
   ],
   "source": [
    "print(year, month, day)"
   ]
  },
  {
   "cell_type": "code",
   "execution_count": 73,
   "metadata": {},
   "outputs": [],
   "source": [
    "datelist = [f\"{}\" for d in pd.date_range(datetime.today(), periods=100).tolist()]\n"
   ]
  },
  {
   "cell_type": "code",
   "execution_count": 74,
   "metadata": {},
   "outputs": [
    {
     "data": {
      "text/plain": [
       "[Timestamp('2022-11-06 14:04:37.744847', freq='D'),\n",
       " Timestamp('2022-11-07 14:04:37.744847', freq='D'),\n",
       " Timestamp('2022-11-08 14:04:37.744847', freq='D'),\n",
       " Timestamp('2022-11-09 14:04:37.744847', freq='D'),\n",
       " Timestamp('2022-11-10 14:04:37.744847', freq='D'),\n",
       " Timestamp('2022-11-11 14:04:37.744847', freq='D'),\n",
       " Timestamp('2022-11-12 14:04:37.744847', freq='D'),\n",
       " Timestamp('2022-11-13 14:04:37.744847', freq='D'),\n",
       " Timestamp('2022-11-14 14:04:37.744847', freq='D'),\n",
       " Timestamp('2022-11-15 14:04:37.744847', freq='D'),\n",
       " Timestamp('2022-11-16 14:04:37.744847', freq='D'),\n",
       " Timestamp('2022-11-17 14:04:37.744847', freq='D'),\n",
       " Timestamp('2022-11-18 14:04:37.744847', freq='D'),\n",
       " Timestamp('2022-11-19 14:04:37.744847', freq='D'),\n",
       " Timestamp('2022-11-20 14:04:37.744847', freq='D'),\n",
       " Timestamp('2022-11-21 14:04:37.744847', freq='D'),\n",
       " Timestamp('2022-11-22 14:04:37.744847', freq='D'),\n",
       " Timestamp('2022-11-23 14:04:37.744847', freq='D'),\n",
       " Timestamp('2022-11-24 14:04:37.744847', freq='D'),\n",
       " Timestamp('2022-11-25 14:04:37.744847', freq='D'),\n",
       " Timestamp('2022-11-26 14:04:37.744847', freq='D'),\n",
       " Timestamp('2022-11-27 14:04:37.744847', freq='D'),\n",
       " Timestamp('2022-11-28 14:04:37.744847', freq='D'),\n",
       " Timestamp('2022-11-29 14:04:37.744847', freq='D'),\n",
       " Timestamp('2022-11-30 14:04:37.744847', freq='D'),\n",
       " Timestamp('2022-12-01 14:04:37.744847', freq='D'),\n",
       " Timestamp('2022-12-02 14:04:37.744847', freq='D'),\n",
       " Timestamp('2022-12-03 14:04:37.744847', freq='D'),\n",
       " Timestamp('2022-12-04 14:04:37.744847', freq='D'),\n",
       " Timestamp('2022-12-05 14:04:37.744847', freq='D'),\n",
       " Timestamp('2022-12-06 14:04:37.744847', freq='D'),\n",
       " Timestamp('2022-12-07 14:04:37.744847', freq='D'),\n",
       " Timestamp('2022-12-08 14:04:37.744847', freq='D'),\n",
       " Timestamp('2022-12-09 14:04:37.744847', freq='D'),\n",
       " Timestamp('2022-12-10 14:04:37.744847', freq='D'),\n",
       " Timestamp('2022-12-11 14:04:37.744847', freq='D'),\n",
       " Timestamp('2022-12-12 14:04:37.744847', freq='D'),\n",
       " Timestamp('2022-12-13 14:04:37.744847', freq='D'),\n",
       " Timestamp('2022-12-14 14:04:37.744847', freq='D'),\n",
       " Timestamp('2022-12-15 14:04:37.744847', freq='D'),\n",
       " Timestamp('2022-12-16 14:04:37.744847', freq='D'),\n",
       " Timestamp('2022-12-17 14:04:37.744847', freq='D'),\n",
       " Timestamp('2022-12-18 14:04:37.744847', freq='D'),\n",
       " Timestamp('2022-12-19 14:04:37.744847', freq='D'),\n",
       " Timestamp('2022-12-20 14:04:37.744847', freq='D'),\n",
       " Timestamp('2022-12-21 14:04:37.744847', freq='D'),\n",
       " Timestamp('2022-12-22 14:04:37.744847', freq='D'),\n",
       " Timestamp('2022-12-23 14:04:37.744847', freq='D'),\n",
       " Timestamp('2022-12-24 14:04:37.744847', freq='D'),\n",
       " Timestamp('2022-12-25 14:04:37.744847', freq='D'),\n",
       " Timestamp('2022-12-26 14:04:37.744847', freq='D'),\n",
       " Timestamp('2022-12-27 14:04:37.744847', freq='D'),\n",
       " Timestamp('2022-12-28 14:04:37.744847', freq='D'),\n",
       " Timestamp('2022-12-29 14:04:37.744847', freq='D'),\n",
       " Timestamp('2022-12-30 14:04:37.744847', freq='D'),\n",
       " Timestamp('2022-12-31 14:04:37.744847', freq='D'),\n",
       " Timestamp('2023-01-01 14:04:37.744847', freq='D'),\n",
       " Timestamp('2023-01-02 14:04:37.744847', freq='D'),\n",
       " Timestamp('2023-01-03 14:04:37.744847', freq='D'),\n",
       " Timestamp('2023-01-04 14:04:37.744847', freq='D'),\n",
       " Timestamp('2023-01-05 14:04:37.744847', freq='D'),\n",
       " Timestamp('2023-01-06 14:04:37.744847', freq='D'),\n",
       " Timestamp('2023-01-07 14:04:37.744847', freq='D'),\n",
       " Timestamp('2023-01-08 14:04:37.744847', freq='D'),\n",
       " Timestamp('2023-01-09 14:04:37.744847', freq='D'),\n",
       " Timestamp('2023-01-10 14:04:37.744847', freq='D'),\n",
       " Timestamp('2023-01-11 14:04:37.744847', freq='D'),\n",
       " Timestamp('2023-01-12 14:04:37.744847', freq='D'),\n",
       " Timestamp('2023-01-13 14:04:37.744847', freq='D'),\n",
       " Timestamp('2023-01-14 14:04:37.744847', freq='D'),\n",
       " Timestamp('2023-01-15 14:04:37.744847', freq='D'),\n",
       " Timestamp('2023-01-16 14:04:37.744847', freq='D'),\n",
       " Timestamp('2023-01-17 14:04:37.744847', freq='D'),\n",
       " Timestamp('2023-01-18 14:04:37.744847', freq='D'),\n",
       " Timestamp('2023-01-19 14:04:37.744847', freq='D'),\n",
       " Timestamp('2023-01-20 14:04:37.744847', freq='D'),\n",
       " Timestamp('2023-01-21 14:04:37.744847', freq='D'),\n",
       " Timestamp('2023-01-22 14:04:37.744847', freq='D'),\n",
       " Timestamp('2023-01-23 14:04:37.744847', freq='D'),\n",
       " Timestamp('2023-01-24 14:04:37.744847', freq='D'),\n",
       " Timestamp('2023-01-25 14:04:37.744847', freq='D'),\n",
       " Timestamp('2023-01-26 14:04:37.744847', freq='D'),\n",
       " Timestamp('2023-01-27 14:04:37.744847', freq='D'),\n",
       " Timestamp('2023-01-28 14:04:37.744847', freq='D'),\n",
       " Timestamp('2023-01-29 14:04:37.744847', freq='D'),\n",
       " Timestamp('2023-01-30 14:04:37.744847', freq='D'),\n",
       " Timestamp('2023-01-31 14:04:37.744847', freq='D'),\n",
       " Timestamp('2023-02-01 14:04:37.744847', freq='D'),\n",
       " Timestamp('2023-02-02 14:04:37.744847', freq='D'),\n",
       " Timestamp('2023-02-03 14:04:37.744847', freq='D'),\n",
       " Timestamp('2023-02-04 14:04:37.744847', freq='D'),\n",
       " Timestamp('2023-02-05 14:04:37.744847', freq='D'),\n",
       " Timestamp('2023-02-06 14:04:37.744847', freq='D'),\n",
       " Timestamp('2023-02-07 14:04:37.744847', freq='D'),\n",
       " Timestamp('2023-02-08 14:04:37.744847', freq='D'),\n",
       " Timestamp('2023-02-09 14:04:37.744847', freq='D'),\n",
       " Timestamp('2023-02-10 14:04:37.744847', freq='D'),\n",
       " Timestamp('2023-02-11 14:04:37.744847', freq='D'),\n",
       " Timestamp('2023-02-12 14:04:37.744847', freq='D'),\n",
       " Timestamp('2023-02-13 14:04:37.744847', freq='D')]"
      ]
     },
     "execution_count": 74,
     "metadata": {},
     "output_type": "execute_result"
    }
   ],
   "source": [
    "datelist"
   ]
  }
 ],
 "metadata": {
  "kernelspec": {
   "display_name": "Python 3.8.13 ('dev1')",
   "language": "python",
   "name": "python3"
  },
  "language_info": {
   "codemirror_mode": {
    "name": "ipython",
    "version": 3
   },
   "file_extension": ".py",
   "mimetype": "text/x-python",
   "name": "python",
   "nbconvert_exporter": "python",
   "pygments_lexer": "ipython3",
   "version": "3.8.13"
  },
  "orig_nbformat": 4,
  "vscode": {
   "interpreter": {
    "hash": "b3385324871f6d9570f7620dc92242373aade45234876ddf4712f3af7383fe60"
   }
  }
 },
 "nbformat": 4,
 "nbformat_minor": 2
}
